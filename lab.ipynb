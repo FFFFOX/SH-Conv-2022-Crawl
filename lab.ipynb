{
 "cells": [
  {
   "cell_type": "code",
   "execution_count": null,
   "metadata": {},
   "outputs": [],
   "source": [
    "import requests\n",
    "from lxml import html\n",
    "import time\n",
    "import collections\n",
    "import pandas as pd\n",
    "from openpyxl import load_workbook"
   ]
  },
  {
   "cell_type": "code",
   "execution_count": null,
   "metadata": {},
   "outputs": [],
   "source": [
    "send_headers = {\n",
    "        \"User-Agent\": \"Mozilla/5.0 (Windows NT 10.0; Win64; x64) AppleWebKit/537.36 (KHTML, like Gecko) Chrome/61.0.3163.100 Safari/537.36\",\n",
    "        \"Connection\": \"keep-alive\",\n",
    "        \"Accept\": \"text/html,application/xhtml+xml,application/xml;q=0.9,image/webp,image/apng,*/*;q=0.8\",\n",
    "        \"Accept-Language\": \"zh-CN,zh;q=0.8\"}"
   ]
  },
  {
   "cell_type": "code",
   "execution_count": null,
   "metadata": {},
   "outputs": [],
   "source": [
    "target_html_dict = collections.OrderedDict()\n",
    "BASE_URL = 'https://wsjkw.sh.gov.cn'\n",
    "url = 'https://wsjkw.sh.gov.cn/xwfb/index{}.html'.format(1)\n",
    "response = requests.get(url,headers=send_headers).text\n",
    "# print(response)\n",
    "selector = html.fromstring(response)\n",
    "urls = selector.xpath(\"//div[@class='main-container margin-top-15']//ul[@class='uli16 nowrapli list-date ']/li\")\n",
    "for url in urls:\n",
    "    title = url.xpath('a/@title')[0]\n",
    "    herf = url.xpath('a/@href')[0]\n",
    "    if '（0-24时）' in title:\n",
    "        print(title)  \n",
    "        # print(BASE_URL + herf)\n",
    "        if herf[:4] == 'http':\n",
    "            target_html_dict[title] = herf\n",
    "        else:\n",
    "            target_html_dict[title] = BASE_URL + herf\n",
    "# for url in target_html_dict.items():\n",
    "#     print(url)"
   ]
  }
 ],
 "metadata": {
  "interpreter": {
   "hash": "31f2aee4e71d21fbe5cf8b01ff0e069b9275f58929596ceb00d14d90e3e16cd6"
  },
  "kernelspec": {
   "display_name": "Python 3.8.9 64-bit",
   "language": "python",
   "name": "python3"
  },
  "language_info": {
   "name": "python",
   "version": "3.8.9"
  },
  "orig_nbformat": 4
 },
 "nbformat": 4,
 "nbformat_minor": 2
}
