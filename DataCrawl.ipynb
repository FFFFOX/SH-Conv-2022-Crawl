{
 "cells": [
  {
   "cell_type": "code",
   "execution_count": 186,
   "metadata": {},
   "outputs": [],
   "source": [
    "import requests\n",
    "from lxml import html\n",
    "import time\n",
    "import collections\n",
    "import pandas as pd\n",
    "from openpyxl import load_workbook"
   ]
  },
  {
   "cell_type": "code",
   "execution_count": 187,
   "metadata": {},
   "outputs": [],
   "source": [
    "send_headers = {\n",
    "        \"User-Agent\": \"Mozilla/5.0 (Windows NT 10.0; Win64; x64) AppleWebKit/537.36 (KHTML, like Gecko) Chrome/61.0.3163.100 Safari/537.36\",\n",
    "        \"Connection\": \"keep-alive\",\n",
    "        \"Accept\": \"text/html,application/xhtml+xml,application/xml;q=0.9,image/webp,image/apng,*/*;q=0.8\",\n",
    "        \"Accept-Language\": \"zh-CN,zh;q=0.8\"}"
   ]
  },
  {
   "cell_type": "markdown",
   "metadata": {},
   "source": [
    "# 获取所有目标子页面url"
   ]
  },
  {
   "cell_type": "code",
   "execution_count": 190,
   "metadata": {},
   "outputs": [
    {
     "name": "stdout",
     "output_type": "stream",
     "text": [
      "4月18日（0-24时）本市各区确诊病例、无症状感染者居住地信息\n",
      "4月17日（0-24时）本市各区确诊病例、无症状感染者居住地信息\n",
      "4月16日（0-24时）本市各区确诊病例、无症状感染者居住地信息\n",
      "4月15日（0-24时）本市各区确诊病例、无症状感染者居住地信息\n",
      "4月14日（0-24时）本市各区确诊病例、无症状感染者居住地信息\n",
      "4月13日（0-24时）本市各区确诊病例、无症状感染者居住地信息\n",
      "【最新】4月12日（0-24时）本市各区确诊病例、无症状感染者居住地信息\n",
      "4月11日（0-24时）本市各区确诊病例、无症状感染者居住地信息\n",
      "4月10日（0-24时）本市各区确诊病例、无症状感染者居住地信息\n",
      "4月9日（0-24时）本市各区确诊病例、无症状感染者居住地信息\n",
      "4月8日（0-24时）本市各区确诊病例、无症状感染者居住地信息\n",
      "4月7日（0-24时）本市各区确诊病例、无症状感染者居住地信息\n",
      "4月6日（0-24时）本市各区确诊病例、无症状感染者居住地信息\n",
      "4月5日（0-24时）本市各区确诊病例、无症状感染者居住地信息\n",
      "4月4日（0-24时）本市各区确诊病例、无症状感染者居住地信息\n",
      "4月3日（0-24时）本市各区确诊病例、无症状感染者居住地信息\n",
      "4月2日（0-24时）本市各区确诊病例、无症状感染者居住地信息\n",
      "4月1日（0-24时）本市各区确诊病例、无症状感染者居住地信息\n",
      "3月31日（0-24时）本市各区确诊病例、无症状感染者居住地信息\n",
      "3月30日（0-24时）本市各区确诊病例、无症状感染者居住地信息\n",
      "3月29日（0-24时）本市各区确诊病例、无症状感染者居住地信息\n",
      "3月28日（0-24时）本市各区确诊病例、无症状感染者居住地信息\n",
      "3月26日（0-24时）本市各区确诊病例、无症状感染者居住地信息\n",
      "3月25日（0-24时）本市各区确诊病例、无症状感染者居住地信息\n",
      "3月24日（0-24时）本市各区确诊病例、无症状感染者居住地信息\n",
      "3月23日（0-24时）本市各区确诊病例、无症状感染者居住地信息\n",
      "3月22日（0-24时）本市各区确诊病例、无症状感染者居住地信息\n",
      "3月21日（0-24时）本市各区确诊病例、无症状感染者居住地信息\n",
      "3月20日（0-24时）本市各区确诊病例、无症状感染者居住地信息\n",
      "3月19日（0-24时）本市各区确诊病例、无症状感染者居住地信息\n",
      "3月18日（0-24时）本市各区确诊病例、无症状感染者居住地信息\n"
     ]
    }
   ],
   "source": [
    "target_html_dict = collections.OrderedDict()\n",
    "BASE_URL = 'https://wsjkw.sh.gov.cn'\n",
    "for i in range(1,16):\n",
    "    time.sleep(1)\n",
    "    page = '_'+str(i)\n",
    "    if i == 1:\n",
    "        page = ''\n",
    "    url = 'https://wsjkw.sh.gov.cn/xwfb/index{}.html'.format(page)\n",
    "    response = requests.get(url,headers=send_headers).text\n",
    "    # print(response)\n",
    "    selector = html.fromstring(response)\n",
    "    urls = selector.xpath(\"//div[@class='main-container margin-top-15']//ul[@class='uli16 nowrapli list-date ']/li\")\n",
    "    for url in urls:\n",
    "        title = url.xpath('a/@title')[0]\n",
    "        herf = url.xpath('a/@href')[0]\n",
    "        if '（0-24时）' in title:\n",
    "            print(title)  \n",
    "            # print(BASE_URL + herf)\n",
    "            if herf[:4] == 'http':\n",
    "                target_html_dict[title] = herf\n",
    "            else:\n",
    "                target_html_dict[title] = BASE_URL + herf\n",
    "# for url in target_html_dict.items():\n",
    "#     print(url)"
   ]
  },
  {
   "cell_type": "markdown",
   "metadata": {},
   "source": [
    "从上面分析来看 网址以4.5为界限，有普通的网页，以及微信网页两种\n",
    "\n",
    "所以分别需要写两种对应的方法"
   ]
  },
  {
   "cell_type": "markdown",
   "metadata": {},
   "source": [
    "# 普通子网页爬取方法"
   ]
  },
  {
   "cell_type": "code",
   "execution_count": 191,
   "metadata": {},
   "outputs": [],
   "source": [
    "addr_df = pd.DataFrame()\n",
    "last = ['村','弄','号','园','区','宅','沿']\n",
    "def getNormalPage(date, url):\n",
    "    addr = []\n",
    "    response = requests.get(url,headers=send_headers).text\n",
    "    selector = html.fromstring(response)\n",
    "    contents = selector.xpath(\"//div[@class='main-container margin-top-15']//div[@class='Article_content']/p\")\n",
    "\n",
    "    for content in contents:\n",
    "        possibleLoc = content.xpath('span/span/text()')\n",
    "        loc = content.xpath('span/text()')\n",
    "        if loc != []:\n",
    "            # print(loc[0][-1:] in last)\n",
    "            if possibleLoc != []:\n",
    "                loc[0] = possibleLoc[0]+loc[0]\n",
    "        \n",
    "            if loc[0][-1:] == '，' or loc[0][-1:] == '：':\n",
    "                # loc = loc[0].replace(',',' ')\n",
    "                addr.append(loc[0][:-1])\n",
    "            elif loc[0][-1:] == '。' and loc[0][-1:] in last:\n",
    "                addr.append(loc[0][:-1])\n",
    "    return (date,addr)"
   ]
  },
  {
   "cell_type": "markdown",
   "metadata": {},
   "source": [
    "# 微信子网页爬取方法"
   ]
  },
  {
   "cell_type": "code",
   "execution_count": 192,
   "metadata": {},
   "outputs": [],
   "source": [
    "def getWxPage(date, url):\n",
    "    addr = []\n",
    "    response = requests.get(url,headers=send_headers).text\n",
    "    selector = html.fromstring(response)\n",
    "    selector = html.fromstring(response)\n",
    "    contents = selector.xpath(\"//div[@class='rich_media_inner']//div[@class='rich_media_area_primary_inner']//div[@class='rich_media_wrp']//div[@id='js_content']//section[@data-id='72469']//section[@data-autoskip='1']/p\")\n",
    "\n",
    "    for content in contents:\n",
    "        loc = content.xpath('span/text()')\n",
    "        if loc != []:\n",
    "            # print(loc[0][-1:] in last)\n",
    "            if loc[0][-1:] == '，' or loc[0][-1:] == '：':\n",
    "                # loc = loc[0].replace(',',' ')\n",
    "                addr.append(loc[0][:-1])\n",
    "            elif loc[0][-1:] == '。' and loc[0][-1:] in last:\n",
    "                addr.append(loc[0][:-1])\n",
    "    return (date,addr)"
   ]
  },
  {
   "cell_type": "code",
   "execution_count": 193,
   "metadata": {},
   "outputs": [
    {
     "name": "stderr",
     "output_type": "stream",
     "text": [
      "/usr/local/lib/python3.8/site-packages/openpyxl/workbook/child.py:99: UserWarning: Title is more than 31 characters. Some applications may not be able to read the file\n",
      "  warnings.warn(\"Title is more than 31 characters. Some applications may not be able to read the file\")\n"
     ]
    }
   ],
   "source": [
    "wb = load_workbook('./data.xlsx')\n",
    "excel_writer = pd.ExcelWriter('data.xlsx',engine='openpyxl')\n",
    "# print(excel_writer.path)\n",
    "excel_writer.book = wb\n",
    "\n",
    "for title,url in target_html_dict.items():\n",
    "    # print(url[8:17])\n",
    "    if url[8:17] == 'mp.weixin':\n",
    "    # if url == 'https://mp.weixin.qq.com/s/vxFiV2HeSvByINUlTmFKZA':\n",
    "        res = getWxPage(date=title,url=url)\n",
    "    # elif url == 'https://wsjkw.sh.gov.cn/xwfb/20220321/2cda1b24b5304d118352bdfd32af0aa4.html':\n",
    "    else:\n",
    "        res = getNormalPage(date=title,url=url)\n",
    "    \n",
    "    _t_df = pd.DataFrame()\n",
    "    _t_df['地址'] = res[1]\n",
    "    _t_df.to_excel(excel_writer, sheet_name=res[0],)\n",
    "\n",
    "excel_writer.save() # 储存文件 \n",
    "excel_writer.close() \n",
    "    "
   ]
  },
  {
   "cell_type": "code",
   "execution_count": null,
   "metadata": {},
   "outputs": [],
   "source": []
  }
 ],
 "metadata": {
  "interpreter": {
   "hash": "0adcc2737ebf6a4a119f135174df96668767fca1ef1112612db5ecadf2b6d608"
  },
  "kernelspec": {
   "display_name": "Python 3.8.5 64-bit",
   "language": "python",
   "name": "python3"
  },
  "language_info": {
   "codemirror_mode": {
    "name": "ipython",
    "version": 3
   },
   "file_extension": ".py",
   "mimetype": "text/x-python",
   "name": "python",
   "nbconvert_exporter": "python",
   "pygments_lexer": "ipython3",
   "version": "3.8.5"
  },
  "orig_nbformat": 4
 },
 "nbformat": 4,
 "nbformat_minor": 2
}
